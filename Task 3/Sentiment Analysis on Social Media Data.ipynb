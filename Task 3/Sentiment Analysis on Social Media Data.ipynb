{
 "cells": [
  {
   "cell_type": "code",
   "execution_count": 152,
   "id": "006942a7-3fe9-47f7-a2a1-6b2371bacdf9",
   "metadata": {},
   "outputs": [
    {
     "name": "stdout",
     "output_type": "stream",
     "text": [
      "✅ Libraries loaded and NLTK data downloaded silently!\n"
     ]
    }
   ],
   "source": [
    "import pandas as pd\n",
    "import numpy as np\n",
    "import re\n",
    "import warnings\n",
    "warnings.filterwarnings('ignore')\n",
    "\n",
    "import nltk\n",
    "nltk.download('stopwords', quiet=True)\n",
    "nltk.download('punkt', quiet=True)\n",
    "nltk.download('wordnet', quiet=True)\n",
    "\n",
    "from nltk.corpus import stopwords\n",
    "from nltk.stem import WordNetLemmatizer\n",
    "from nltk.tokenize import word_tokenize\n",
    "\n",
    "stop_words = set(stopwords.words('english'))\n",
    "lemmatizer = WordNetLemmatizer()\n",
    "\n",
    "print(\"✅ Libraries loaded and NLTK data downloaded silently!\")\n",
    "\n"
   ]
  },
  {
   "cell_type": "code",
   "execution_count": 153,
   "id": "90b0e4f6-a49b-4a4d-b192-b7825d3b990a",
   "metadata": {},
   "outputs": [
    {
     "data": {
      "text/html": [
       "<div>\n",
       "<style scoped>\n",
       "    .dataframe tbody tr th:only-of-type {\n",
       "        vertical-align: middle;\n",
       "    }\n",
       "\n",
       "    .dataframe tbody tr th {\n",
       "        vertical-align: top;\n",
       "    }\n",
       "\n",
       "    .dataframe thead th {\n",
       "        text-align: right;\n",
       "    }\n",
       "</style>\n",
       "<table border=\"1\" class=\"dataframe\">\n",
       "  <thead>\n",
       "    <tr style=\"text-align: right;\">\n",
       "      <th></th>\n",
       "      <th>text</th>\n",
       "      <th>sentiment</th>\n",
       "    </tr>\n",
       "  </thead>\n",
       "  <tbody>\n",
       "    <tr>\n",
       "      <th>0</th>\n",
       "      <td>Last session of the day  http://twitpic.com/67ezh</td>\n",
       "      <td>neutral</td>\n",
       "    </tr>\n",
       "    <tr>\n",
       "      <th>1</th>\n",
       "      <td>Shanghai is also really exciting (precisely -...</td>\n",
       "      <td>positive</td>\n",
       "    </tr>\n",
       "    <tr>\n",
       "      <th>2</th>\n",
       "      <td>Recession hit Veronique Branquinho, she has to...</td>\n",
       "      <td>negative</td>\n",
       "    </tr>\n",
       "    <tr>\n",
       "      <th>3</th>\n",
       "      <td>happy bday!</td>\n",
       "      <td>positive</td>\n",
       "    </tr>\n",
       "    <tr>\n",
       "      <th>4</th>\n",
       "      <td>http://twitpic.com/4w75p - I like it!!</td>\n",
       "      <td>positive</td>\n",
       "    </tr>\n",
       "  </tbody>\n",
       "</table>\n",
       "</div>"
      ],
      "text/plain": [
       "                                                text sentiment\n",
       "0  Last session of the day  http://twitpic.com/67ezh   neutral\n",
       "1   Shanghai is also really exciting (precisely -...  positive\n",
       "2  Recession hit Veronique Branquinho, she has to...  negative\n",
       "3                                        happy bday!  positive\n",
       "4             http://twitpic.com/4w75p - I like it!!  positive"
      ]
     },
     "execution_count": 153,
     "metadata": {},
     "output_type": "execute_result"
    }
   ],
   "source": [
    "# Load dataset with proper encoding\n",
    "df = pd.read_csv('sentiment.csv', encoding='latin-1')\n",
    "\n",
    "# Use only relevant columns\n",
    "df = df[['text', 'sentiment']]\n",
    "\n",
    "# Check first rows\n",
    "df.head()\n"
   ]
  },
  {
   "cell_type": "code",
   "execution_count": 154,
   "id": "3247cbcd-cd22-40d4-afe7-0abfcbc99672",
   "metadata": {},
   "outputs": [
    {
     "data": {
      "text/html": [
       "<div>\n",
       "<style scoped>\n",
       "    .dataframe tbody tr th:only-of-type {\n",
       "        vertical-align: middle;\n",
       "    }\n",
       "\n",
       "    .dataframe tbody tr th {\n",
       "        vertical-align: top;\n",
       "    }\n",
       "\n",
       "    .dataframe thead th {\n",
       "        text-align: right;\n",
       "    }\n",
       "</style>\n",
       "<table border=\"1\" class=\"dataframe\">\n",
       "  <thead>\n",
       "    <tr style=\"text-align: right;\">\n",
       "      <th></th>\n",
       "      <th>text</th>\n",
       "      <th>sentiment</th>\n",
       "      <th>cleaned_text</th>\n",
       "    </tr>\n",
       "  </thead>\n",
       "  <tbody>\n",
       "    <tr>\n",
       "      <th>0</th>\n",
       "      <td>Last session of the day  http://twitpic.com/67ezh</td>\n",
       "      <td>neutral</td>\n",
       "      <td>last session day httptwitpiccomezh</td>\n",
       "    </tr>\n",
       "    <tr>\n",
       "      <th>1</th>\n",
       "      <td>Shanghai is also really exciting (precisely -...</td>\n",
       "      <td>positive</td>\n",
       "      <td>shanghai also really exciting precisely skyscr...</td>\n",
       "    </tr>\n",
       "    <tr>\n",
       "      <th>2</th>\n",
       "      <td>Recession hit Veronique Branquinho, she has to...</td>\n",
       "      <td>negative</td>\n",
       "      <td>recession hit veronique branquinho quit compan...</td>\n",
       "    </tr>\n",
       "    <tr>\n",
       "      <th>3</th>\n",
       "      <td>happy bday!</td>\n",
       "      <td>positive</td>\n",
       "      <td>happy bday</td>\n",
       "    </tr>\n",
       "    <tr>\n",
       "      <th>4</th>\n",
       "      <td>http://twitpic.com/4w75p - I like it!!</td>\n",
       "      <td>positive</td>\n",
       "      <td>httptwitpiccomwp like</td>\n",
       "    </tr>\n",
       "  </tbody>\n",
       "</table>\n",
       "</div>"
      ],
      "text/plain": [
       "                                                text sentiment  \\\n",
       "0  Last session of the day  http://twitpic.com/67ezh   neutral   \n",
       "1   Shanghai is also really exciting (precisely -...  positive   \n",
       "2  Recession hit Veronique Branquinho, she has to...  negative   \n",
       "3                                        happy bday!  positive   \n",
       "4             http://twitpic.com/4w75p - I like it!!  positive   \n",
       "\n",
       "                                        cleaned_text  \n",
       "0                 last session day httptwitpiccomezh  \n",
       "1  shanghai also really exciting precisely skyscr...  \n",
       "2  recession hit veronique branquinho quit compan...  \n",
       "3                                         happy bday  \n",
       "4                              httptwitpiccomwp like  "
      ]
     },
     "execution_count": 154,
     "metadata": {},
     "output_type": "execute_result"
    }
   ],
   "source": [
    "# Initialize lemmatizer and stopwords\n",
    "lemmatizer = WordNetLemmatizer()\n",
    "stop_words = set(stopwords.words('english'))\n",
    "\n",
    "# Function to clean text\n",
    "def preprocess_text(text):\n",
    "    text = re.sub(r'[^a-zA-Z\\s]', '', str(text))\n",
    "    text = text.lower()\n",
    "    tokens = word_tokenize(text)\n",
    "    tokens = [lemmatizer.lemmatize(word) for word in tokens if word not in stop_words]\n",
    "    return ' '.join(tokens)\n",
    "\n",
    "# Apply preprocessing\n",
    "df['cleaned_text'] = df['text'].apply(preprocess_text)\n",
    "\n",
    "# Check cleaned data\n",
    "df.head()\n"
   ]
  },
  {
   "cell_type": "code",
   "execution_count": 155,
   "id": "6bd3f123-ed2f-4f7c-8a9a-142861bf0e3d",
   "metadata": {},
   "outputs": [
    {
     "data": {
      "image/png": "[encoded data removed]",
      "text/plain": [
       "<Figure size 600x400 with 1 Axes>"
      ]
     },
     "metadata": {},
     "output_type": "display_data"
    },
    {
     "data": {
      "image/png": "[encoded data removed]",
      "text/plain": [
       "<Figure size 600x400 with 1 Axes>"
      ]
     },
     "metadata": {},
     "output_type": "display_data"
    }
   ],
   "source": [
    "# Sentiment distribution\n",
    "plt.figure(figsize=(6,4))\n",
    "sns.countplot(x='sentiment', data=df, palette=['green','red','gray'])\n",
    "plt.title('Sentiment Distribution')\n",
    "plt.show()\n",
    "\n",
    "# Word count distribution\n",
    "df['word_count'] = df['cleaned_text'].apply(lambda x: len(x.split()))\n",
    "plt.figure(figsize=(6,4))\n",
    "df['word_count'].plot(kind='hist', bins=30, color='skyblue')\n",
    "plt.title('Word Count Distribution')\n",
    "plt.xlabel('Word Count')\n",
    "plt.ylabel('Frequency')\n",
    "plt.show()\n"
   ]
  },
  {
   "cell_type": "code",
   "execution_count": 156,
   "id": "f3307287-5f70-4aca-9c48-fbae817ef815",
   "metadata": {},
   "outputs": [
    {
     "name": "stdout",
     "output_type": "stream",
     "text": [
      "✅ Data cleaned and vectorized!\n",
      "Feature matrix shape: (3523, 5000)\n",
      "Labels shape: (3523,)\n",
      "Classes: ['negative', 'neutral', 'positive']\n",
      "📊 Accuracy: 0.6596\n",
      "\n",
      "Classification Report:\n",
      "              precision    recall  f1-score   support\n",
      "\n",
      "    negative       0.73      0.47      0.57       190\n",
      "     neutral       0.57      0.79      0.66       278\n",
      "    positive       0.79      0.66      0.72       237\n",
      "\n",
      "    accuracy                           0.66       705\n",
      "   macro avg       0.70      0.64      0.65       705\n",
      "weighted avg       0.69      0.66      0.66       705\n",
      "\n",
      "\n",
      "Sample Predictions:\n",
      "Tweet: Last session of the day  http://twitpic.com/67ezh...\n",
      "Predicted Sentiment: neutral\n",
      "----\n",
      "Tweet:  Shanghai is also really exciting (precisely -- skyscrapers ...\n",
      "Predicted Sentiment: positive\n",
      "----\n",
      "Tweet: Recession hit Veronique Branquinho, she has to quit her comp...\n",
      "Predicted Sentiment: negative\n",
      "----\n",
      "Tweet:  happy bday!...\n",
      "Predicted Sentiment: positive\n",
      "----\n",
      "Tweet:  http://twitpic.com/4w75p - I like it!!...\n",
      "Predicted Sentiment: positive\n",
      "----\n"
     ]
    }
   ],
   "source": [
    "# ----- Clean text & remove empty rows -----\n",
    "df = df[df['cleaned_text'].str.strip().astype(bool)]\n",
    "df = df[df['sentiment'].notnull()]  # Remove rows with NaN sentiment\n",
    "df['sentiment'] = df['sentiment'].astype(str)  # Ensure all are strings\n",
    "\n",
    "# ----- TF-IDF Vectorization -----\n",
    "vectorizer = TfidfVectorizer(max_features=5000)\n",
    "X = vectorizer.fit_transform(df['cleaned_text']).toarray()\n",
    "\n",
    "# ----- Encode labels -----\n",
    "encoder = LabelEncoder()\n",
    "y = encoder.fit_transform(df['sentiment'])\n",
    "class_names = list(map(str, encoder.classes_))  # Ensure target_names are strings\n",
    "\n",
    "print(\"✅ Data cleaned and vectorized!\")\n",
    "print(\"Feature matrix shape:\", X.shape)\n",
    "print(\"Labels shape:\", y.shape)\n",
    "print(\"Classes:\", class_names)\n",
    "\n",
    "# ----- Train-Test Split & Model -----\n",
    "from sklearn.model_selection import train_test_split\n",
    "from sklearn.ensemble import RandomForestClassifier\n",
    "from sklearn.metrics import classification_report, accuracy_score\n",
    "\n",
    "X_train, X_test, y_train, y_test = train_test_split(X, y, test_size=0.2, random_state=42)\n",
    "\n",
    "model = RandomForestClassifier(n_estimators=100, random_state=42)\n",
    "model.fit(X_train, y_train)\n",
    "\n",
    "y_pred = model.predict(X_test)\n",
    "\n",
    "acc = accuracy_score(y_test, y_pred)\n",
    "print(f\"📊 Accuracy: {acc:.4f}\\n\")\n",
    "print(\"Classification Report:\")\n",
    "print(classification_report(y_test, y_pred, target_names=class_names))\n",
    "\n",
    "# Show few predictions\n",
    "print(\"\\nSample Predictions:\")\n",
    "for i in range(5):\n",
    "    tweet = df['text'].iloc[i][:60]\n",
    "    pred = encoder.inverse_transform([model.predict(vectorizer.transform([df['cleaned_text'].iloc[i]]))[0]])[0]\n",
    "    print(f\"Tweet: {tweet}...\\nPredicted Sentiment: {pred}\\n----\")\n"
   ]
  },
  {
   "cell_type": "code",
   "execution_count": 157,
   "id": "5a9b66bc-0a9d-4eb6-ae84-42a376b97c21",
   "metadata": {},
   "outputs": [
    {
     "data": {
      "image/png": "[encoded data removed]",
      "text/plain": [
       "<Figure size 600x400 with 2 Axes>"
      ]
     },
     "metadata": {},
     "output_type": "display_data"
    },
    {
     "name": "stdout",
     "output_type": "stream",
     "text": [
      "✅ Confusion matrix displayed successfully!\n"
     ]
    }
   ],
   "source": [
    "%matplotlib inline\n",
    "from sklearn.metrics import confusion_matrix\n",
    "import seaborn as sns\n",
    "import matplotlib.pyplot as plt\n",
    "\n",
    "cm = confusion_matrix(y_test, y_pred)\n",
    "plt.figure(figsize=(6,4))\n",
    "sns.heatmap(cm, annot=True, fmt='d', cmap='Blues', \n",
    "            xticklabels=class_names, yticklabels=class_names)\n",
    "plt.title('Confusion Matrix')\n",
    "plt.xlabel('Predicted')\n",
    "plt.ylabel('Actual')\n",
    "plt.show()\n",
    "print(\"✅ Confusion matrix displayed successfully!\")\n",
    "\n"
   ]
  },
  {
   "cell_type": "code",
   "execution_count": 158,
   "id": "a1d054ff-b0dc-4966-8989-28a741b75db4",
   "metadata": {},
   "outputs": [
    {
     "name": "stdout",
     "output_type": "stream",
     "text": [
      "Tweet: I love this product, it's amazing!\n",
      "Predicted Sentiment: positive\n",
      "----\n",
      "Tweet: This is the worst experience ever.\n",
      "Predicted Sentiment: negative\n",
      "----\n",
      "Tweet: I feel okay about the service.\n",
      "Predicted Sentiment: negative\n",
      "----\n"
     ]
    }
   ],
   "source": [
    "# Function for preprocessing user input\n",
    "def preprocess_input(text):\n",
    "    text = re.sub(r'[^a-zA-Z\\s]', '', str(text))\n",
    "    text = text.lower()\n",
    "    tokens = word_tokenize(text)\n",
    "    tokens = [lemmatizer.lemmatize(word) for word in tokens if word not in stop_words]\n",
    "    return ' '.join(tokens)\n",
    "\n",
    "# Function to predict sentiment\n",
    "def predict_sentiment(tweet):\n",
    "    cleaned = preprocess_input(tweet)\n",
    "    vectorized = vectorizer.transform([cleaned]).toarray()\n",
    "    prediction = model.predict(vectorized)\n",
    "    sentiment = encoder.inverse_transform(prediction)\n",
    "    return sentiment[0]\n",
    "\n",
    "# Example tweets (bypass input() for Jupyter-friendly output)\n",
    "sample_tweets = [\n",
    "    \"I love this product, it's amazing!\",\n",
    "    \"This is the worst experience ever.\",\n",
    "    \"I feel okay about the service.\"\n",
    "]\n",
    "\n",
    "for tweet in sample_tweets:\n",
    "    result = predict_sentiment(tweet)\n",
    "    print(f\"Tweet: {tweet}\\nPredicted Sentiment: {result}\\n----\")\n"
   ]
  }
 ],
 "metadata": {
  "kernelspec": {
   "display_name": "Python [conda env:base] *",
   "language": "python",
   "name": "conda-base-py"
  },
  "language_info": {
   "codemirror_mode": {
    "name": "ipython",
    "version": 3
   },
   "file_extension": ".py",
   "mimetype": "text/x-python",
   "name": "python",
   "nbconvert_exporter": "python",
   "pygments_lexer": "ipython3",
   "version": "3.12.7"
  }
 },
 "nbformat": 4,
 "nbformat_minor": 5
}
